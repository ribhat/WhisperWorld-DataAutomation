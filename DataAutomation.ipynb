{
 "cells": [
  {
   "cell_type": "markdown",
   "id": "29a5010d-512a-4bdd-acfa-e95d7fa13a58",
   "metadata": {},
   "source": [
    "## Input Variables"
   ]
  },
  {
   "cell_type": "code",
   "execution_count": 1,
   "id": "581f943e-0fca-40b2-996e-70ca6014e701",
   "metadata": {},
   "outputs": [],
   "source": [
    "# Input Variables\n",
    "Brand_name = \"Ponds\"\n",
    "TOM_tvc = 60\n",
    "TOM_TVC_ICA = 72\n",
    "Spont_Brand_tvc = 75  # Same as BR Unaided - TVC\n",
    "Spont_Brand_tvc_ica = 80  # Same as BR Unaided - TVC+ICA\n",
    "Aided_Brand_tvc = 94\n",
    "Aided_Brand_tvc_ica = 92 \n",
    "Creative_type = 'F(TVC) + F(ICA)'\n"
   ]
  },
  {
   "cell_type": "markdown",
   "id": "e508dc4c-89df-4b90-9714-d357f29d1643",
   "metadata": {},
   "source": [
    "## Load and Clean Data"
   ]
  },
  {
   "cell_type": "code",
   "execution_count": 2,
   "id": "3081278d-33ac-44de-ac88-7c10cd8a6471",
   "metadata": {},
   "outputs": [
    {
     "name": "stdout",
     "output_type": "stream",
     "text": [
      "Data from 'India' Sheet Loaded Successfully!\n",
      "Columns in Dataset: Index(['Year', 'SECTOR', 'CATEGORY', 'ADVERTISER', 'ADVERTISER GROUP', 'BRAND',\n",
      "       'TARGET AUDIENCE', 'MARKET', 'Product', 'Activity Period',\n",
      "       'RESEARCH METHODOLOGY', 'CAMPAIGN FORMAT', 'SOURCE', 'TOTAL ICA SPOTS',\n",
      "       'Channel', 'PROGRAM', 'TVC ARTWORK LINK', 'Type of TVC (F/E/M)',\n",
      "       'APPROVED MOCKUP/ ICA CREATIVE LINK', 'Type of ICA (F/E/M)',\n",
      "       'CAMPAIGN TYPE/ OBJECTIVE', 'TOM-ICA', 'TOM-Cont',\n",
      "       'TOM Uplift (CONT. vs ICA)', 'TOM - TVC', 'TOM - TVC+ICA',\n",
      "       'TOM Uplift (TVC vs TVC + ICA)', 'BR Unaided ICA', 'BR Unaided Cont',\n",
      "       'BR Unaided Uplift (CONT. vs ICA)', 'BR Unaided - TVC',\n",
      "       'BR Unaied - TVC+ICA', 'BR Unaided Uplift (TVC vs TVC + ICA)',\n",
      "       'AD RECALL ICA', 'AD RECALL CONTROL', 'AD RECAL Uplift (ICA-CONT.)',\n",
      "       'AD RECAL TVC', 'AD RECALL TVC+ICA',\n",
      "       ' AD RECAL Uplift (TVC vs TVC +ICA)', 'MR-ICA', 'MR-Cont',\n",
      "       'MR Uplift (CONT. vs ICA)', 'MR - TVC', 'MR - TVC+ICA',\n",
      "       'MR Uplift (TVC vs TVC + ICA)', 'PI-ICA', 'PI-Cont',\n",
      "       'PI Uplift (CONT. vs ICA)', 'PI - TVC', 'PI - TVC+ICA',\n",
      "       'PI Uplift (TVC vs TVC+ICA)', 'AL-ICA', 'AL-Cont', 'AL - TVC',\n",
      "       'AL - TVC+ICA', 'AL Uplift (TVC vs TVC+ICA)', 'FAV. ICA', 'FAV. CONT.',\n",
      "       'FAV Uplift (CONT. vs ICA)', 'FAV. TVC', 'FAV. TVC+ICA',\n",
      "       'FAV Uplift (TVC vs TVC+ICA)', 'BR Total Awrns - ICA',\n",
      "       'BR Total Awrns - CONT.', 'BR Total Axrns Uplift (CONT. vs ICA)',\n",
      "       'BR Total Awrns - TVC', 'BR Total Awrns - TVC+ICA',\n",
      "       'BR Total Axrns Uplift (TVC vs TVC+ICA)', 'VIEWABILITY (%) - ICA',\n",
      "       'TIMESPENT (Secs) - ICA', 'FIRST FIXATION', 'VIEWABILITY (%) - ASTON',\n",
      "       'TIMESPENT (Secs) - ASTON', 'TOTAL GRPs', 'BREAK TVR', 'ICA TVR',\n",
      "       '%UPLIFT', 'REACH @ 1+ ', 'OTS', 'TVC GRPS', 'TVC SPOTS', 'SPOT TVR',\n",
      "       'Oualify for Meta Analysis'],\n",
      "      dtype='object')\n",
      "First Few Rows:\n",
      "     Year                                            SECTOR  \\\n",
      "0  2021.0                                  FOOD & BEVERAGES   \n",
      "1  2021.0                                  FOOD & BEVERAGES   \n",
      "2  2021.0  BUILDING, INDUSTRIAL & LAND MATERIALS/EQUIPMENTS   \n",
      "3  2021.0                                  FOOD & BEVERAGES   \n",
      "4  2021.0                              PERSONAL ACCESSORIES   \n",
      "\n",
      "                     CATEGORY                   ADVERTISER  \\\n",
      "0                  CHOCOLATES        HERSHEY INDIA PVT LTD   \n",
      "1                         TEA             A V THOMAS GROUP   \n",
      "2  BUILDING MATERIALS/SYSTEMS          PIDILITE INDUSTRIES   \n",
      "3      SOFT DRINK NON AERATED          COCA COLA INDIA LTD   \n",
      "4    RETAIL OUTLETS-JEWELLERS  ALUKKAS ENTERPRISES PVT LTD   \n",
      "\n",
      "        ADVERTISER GROUP                            BRAND   TARGET AUDIENCE  \\\n",
      "0  HERSHEY INDIA PVT LTD       HERSHEYS KISSES CHOCOLATES      AA 15-40 A U   \n",
      "1       A V THOMAS GROUP                 AVT GOLD CUP TEA  AA 25-50 ABC U+R   \n",
      "2    PIDILITE INDUSTRIES  ROFF TILE & STONE FIXING EXPERT        M 31+ AB U   \n",
      "3    COCA COLA INDIA LTD                            MAAZA     AA 15-30 AB U   \n",
      "4     JOS ALUKKAS & SONS            JOS ALUKKAS JEWELLERY    AA 21+ ABC U+R   \n",
      "\n",
      "       MARKET Product Activity Period  ... TOTAL GRPs BREAK TVR ICA TVR  \\\n",
      "0   Karnataka     NaN             NaN  ...        NaN      3.90    4.30   \n",
      "1  Tamil Nadu     NaN             NaN  ...        NaN       NaN     NaN   \n",
      "2   Karnataka     NaN             NaN  ...        NaN      6.09    6.52   \n",
      "3  Tamil Nadu     NaN             NaN  ...        NaN       NaN     NaN   \n",
      "4  Tamil Nadu     NaN             NaN  ...        NaN     10.50   13.30   \n",
      "\n",
      "   %UPLIFT REACH @ 1+  OTS TVC GRPS TVC SPOTS SPOT TVR  \\\n",
      "0     0.11         NaN NaN      NaN       NaN      NaN   \n",
      "1      NaN         NaN NaN      NaN       NaN      NaN   \n",
      "2     0.07         NaN NaN      NaN       NaN      NaN   \n",
      "3      NaN         NaN NaN      NaN       NaN      NaN   \n",
      "4     0.27         NaN NaN      NaN       NaN      NaN   \n",
      "\n",
      "  Oualify for Meta Analysis  \n",
      "0                       NaN  \n",
      "1                        No  \n",
      "2                        No  \n",
      "3                        No  \n",
      "4                        No  \n",
      "\n",
      "[5 rows x 83 columns]\n"
     ]
    }
   ],
   "source": [
    "import pandas as pd\n",
    "\n",
    "# Replace 'Global Campaign Tracker.xlsx' with the path to your file\n",
    "file_path = \"Global Campaign Tracker.xlsx\"\n",
    "\n",
    "# Load the specific sheet named 'India' using the 'openpyxl' engine\n",
    "try:\n",
    "    campaign_data_india = pd.read_excel(file_path, sheet_name='INDIA', engine='openpyxl')\n",
    "    print(\"Data from 'India' Sheet Loaded Successfully!\")\n",
    "    print(\"Columns in Dataset:\", campaign_data_india.columns)\n",
    "    print(\"First Few Rows:\")\n",
    "    print(campaign_data_india.head())\n",
    "except Exception as e:\n",
    "    print(f\"Error loading data from 'India' sheet: {e}\")\n"
   ]
  },
  {
   "cell_type": "code",
   "execution_count": null,
   "id": "f36e7be5-559e-4ede-8361-7fa090334c9c",
   "metadata": {},
   "outputs": [],
   "source": [
    "# List of columns to keep; Remove unused columns for managability\n",
    "columns_to_keep = [\n",
    "    'Year', 'SECTOR', 'CATEGORY', 'ADVERTISER', 'BRAND', 'TARGET AUDIENCE',\n",
    "    'MARKET', 'CAMPAIGN FORMAT', 'TOM - TVC', 'TOM - TVC+ICA', \n",
    "    'TOM Uplift (TVC vs TVC + ICA)', 'BR Unaided - TVC', \n",
    "    'BR Unaied - TVC+ICA', 'BR Unaided Uplift (TVC vs TVC + ICA)', \n",
    "    'Type of TVC (F/E/M)', 'Type of ICA (F/E/M)'\n",
    "]\n",
    "\n",
    "# Filter the data to include only the specified columns\n",
    "campaign_data_india = campaign_data_india[columns_to_keep]\n",
    "\n",
    "# Display the first few rows of the filtered data to verify\n",
    "print(campaign_data_india.head())"
   ]
  },
  {
   "cell_type": "code",
   "execution_count": null,
   "id": "0e138cca-7975-496b-acfa-a8009104db7a",
   "metadata": {},
   "outputs": [],
   "source": [
    "# Calculate the Spont Brand Uplift percentage for each record and add it as a new column\n",
    "campaign_data_india['Spont Brand Uplift (%)'] = (\n",
    "    (campaign_data_india['BR Unaied - TVC+ICA'] - campaign_data_india['BR Unaided - TVC']) /\n",
    "    campaign_data_india['BR Unaided - TVC']\n",
    ") * 100\n",
    "\n",
    "print(campaign_data_india.head())"
   ]
  },
  {
   "cell_type": "code",
   "execution_count": null,
   "id": "6f27e190-c9a9-4342-b4ef-9e317227dc76",
   "metadata": {},
   "outputs": [],
   "source": [
    "# Get the total number of rows and columns\n",
    "total_rows, total_columns = campaign_data_india.shape\n",
    "\n",
    "# Print the total number of rows\n",
    "print(f\"Total number of rows: {total_rows}\")\n",
    "\n",
    "# Check for missing values\n",
    "print(f\"\\nTotal null values in each row: \\n{campaign_data_india.isnull().sum()}\")\n",
    "\n",
    "# If we want to drop rows with missing values or fill them with a default value\n",
    "# campaign_data_india = campaign_data_india.dropna()  # or\n",
    "# campaign_data_india = campaign_data_india.fillna(0)\n"
   ]
  },
  {
   "cell_type": "code",
   "execution_count": null,
   "id": "03be7ba1-e049-433f-b6b3-8c9edfc861d4",
   "metadata": {},
   "outputs": [],
   "source": [
    "print(campaign_data_india.dtypes)  # Check for correct data types\n"
   ]
  },
  {
   "cell_type": "code",
   "execution_count": null,
   "id": "0ba26457-6c6b-414f-9554-6f14447beeb5",
   "metadata": {},
   "outputs": [],
   "source": [
    "print(campaign_data_india.describe())\n"
   ]
  },
  {
   "cell_type": "code",
   "execution_count": null,
   "id": "39f26147-9de5-4814-bda0-dc4ec5ca12a2",
   "metadata": {},
   "outputs": [],
   "source": [
    "print(campaign_data_india['SECTOR'].value_counts())\n",
    "print()\n",
    "print(campaign_data_india['TARGET AUDIENCE'].value_counts())\n"
   ]
  },
  {
   "cell_type": "code",
   "execution_count": null,
   "id": "33258d53-6675-48fd-89e7-fa17db692aaa",
   "metadata": {},
   "outputs": [],
   "source": [
    "#remove rows that do not have TVC-ICA scores\n",
    "filtered_data = campaign_data_india.dropna(subset=['BR Unaided - TVC', 'BR Unaied - TVC+ICA'])\n",
    "\n",
    "#Filter to include only records where 'BR Unaided - TVC' is greater than 25\n",
    "filtered_data = filtered_data[filtered_data['BR Unaided - TVC'] > 25]\n",
    "\n",
    "print(filtered_data.describe())"
   ]
  },
  {
   "cell_type": "code",
   "execution_count": 48,
   "id": "eff07b3f-70c6-4bd5-a01c-01d5d7075fd3",
   "metadata": {},
   "outputs": [],
   "source": [
    "# # Ensure that values in target audience column are treated as strings\n",
    "# filtered_data['TARGET AUDIENCE'] = filtered_data['TARGET AUDIENCE'].astype(str)\n",
    "# # Filter rows where Target Audience is Female\n",
    "filtered_data = filtered_data[filtered_data['TARGET AUDIENCE'].str[0] == 'F']\n",
    "\n",
    "# # Display the first few rows of the filtered data for verification\n",
    "# print(filtered_data.describe())\n"
   ]
  },
  {
   "cell_type": "code",
   "execution_count": null,
   "id": "5205cd98-4d12-4288-a527-ed88423e6256",
   "metadata": {},
   "outputs": [],
   "source": [
    "# using BR Unaided - TVC to define the thresholds for small, medium, and large brands.\n",
    "br_unaided_percentiles = filtered_data['BR Unaided - TVC'].quantile([0.40, 0.69])\n",
    "print(\"Percentiles for BR Unaided - TVC:\")\n",
    "print(br_unaided_percentiles)\n"
   ]
  },
  {
   "cell_type": "code",
   "execution_count": null,
   "id": "d1abcb18-510b-41f1-95a6-927d4aba4ca9",
   "metadata": {},
   "outputs": [],
   "source": [
    "def categorize_brand_size(br_unaided_score):\n",
    "    if br_unaided_score <= br_unaided_percentiles[0.40]:\n",
    "        return 'Small'\n",
    "    elif br_unaided_score <= br_unaided_percentiles[0.69]:\n",
    "        return 'Medium'\n",
    "    else:\n",
    "        return 'Large'\n",
    "\n",
    "filtered_data['Brand Size'] = filtered_data['BR Unaided - TVC'].apply(categorize_brand_size)\n",
    "print(filtered_data[['BR Unaided - TVC', 'Brand Size']].head())"
   ]
  },
  {
   "cell_type": "code",
   "execution_count": null,
   "id": "dc39bb9d-eab2-43e9-9e27-5be99f568e2f",
   "metadata": {},
   "outputs": [],
   "source": [
    "# Calculate average TOM uplift and counts for each brand size\n",
    "tom_uplift_stats = filtered_data.groupby('Brand Size')['TOM Uplift (TVC vs TVC + ICA)'].agg(['mean', 'size'])\n",
    "print(\"TOM Uplift Stats by Brand Size:\")\n",
    "print(tom_uplift_stats)"
   ]
  },
  {
   "cell_type": "code",
   "execution_count": 52,
   "id": "2615e2c3-b6b5-4a65-83c8-83411fd0f947",
   "metadata": {},
   "outputs": [],
   "source": [
    "## Visualize the comparison of average uplifts across brand sizes.\n",
    "# import matplotlib.pyplot as plt\n",
    "\n",
    "# average_uplifts.plot(kind='bar')\n",
    "# plt.title('Average Uplift by Brand Size')\n",
    "# plt.ylabel('Average Uplift (%)')\n",
    "# plt.xlabel('Brand Size')\n",
    "# plt.show()"
   ]
  },
  {
   "cell_type": "code",
   "execution_count": null,
   "id": "7806b56a-42df-47d1-b810-a11273b17f57",
   "metadata": {},
   "outputs": [],
   "source": [
    "# Input Variables\n",
    "Brand_name = \"Ponds\"\n",
    "TOM_tvc = 60\n",
    "TOM_TVC_ICA = 72\n",
    "Spont_Brand_tvc = 75  # Same as BR Unaided - TVC\n",
    "Spont_Brand_tvc_ica = 80  # Same as BR Unaided - TVC+ICA\n",
    "\n",
    "# Calculate the TOM uplift for the current brand\n",
    "current_tom_uplift = (TOM_TVC_ICA - TOM_tvc) / TOM_tvc * 100  # Percentage uplift\n",
    "\n",
    "# Determine the current brand size based on Spont_Brand_tvc\n",
    "def categorize_brand_size(br_unaided_score):\n",
    "    if br_unaided_score <= br_unaided_percentiles[0.4]:\n",
    "        return 'Small'\n",
    "    elif br_unaided_score <= br_unaided_percentiles[0.69]:\n",
    "        return 'Medium'\n",
    "    else:\n",
    "        return 'Large'\n",
    "\n",
    "current_brand_size = categorize_brand_size(Spont_Brand_tvc)\n",
    "\n",
    "# Retrieve the average uplift for the current brand size\n",
    "average_tom_uplift_for_size = tom_uplift_stats['mean'][current_brand_size]\n",
    "\n",
    "# Compare the current brand uplift to the average\n",
    "print(f\"Brand Name: {Brand_name}\")\n",
    "print(f\"Brand Size: {current_brand_size}\")\n",
    "print(f\"Current Brand TOM Uplift: {current_tom_uplift:.2f}%\")\n",
    "print(f\"Average TOM Uplift for {current_brand_size} Brands: {average_tom_uplift_for_size:.2f}%\")\n",
    "\n",
    "if current_tom_uplift > average_tom_uplift_for_size:\n",
    "    print(f\"The current ad for {Brand_name} shows a **significant improvement** compared to the average uplift for {current_brand_size} brands.\")\n",
    "else:\n",
    "    print(f\"The current ad for {Brand_name} does **not show a significant improvement** compared to the average uplift for {current_brand_size} brands.\")\n"
   ]
  },
  {
   "cell_type": "code",
   "execution_count": null,
   "id": "586aba70-9f80-4055-92b8-ccb80570568e",
   "metadata": {},
   "outputs": [],
   "source": [
    "# Calculate the average Spont Brand uplift percentage for each brand size\n",
    "average_spont_brand_uplifts = filtered_data.groupby('Brand Size')['Spont Brand Uplift (%)'].mean()\n",
    "count_spont_brand_uplifts = filtered_data.groupby('Brand Size')['Spont Brand Uplift (%)'].size()\n",
    "\n",
    "# Print the averages to verify\n",
    "print(\"Average Spont Brand Uplift by Brand Size:\")\n",
    "print(average_spont_brand_uplifts)\n",
    "print(count_spont_brand_uplifts)\n"
   ]
  },
  {
   "cell_type": "markdown",
   "id": "aa60f920-f564-4b7d-b4c6-3ed6351e009a",
   "metadata": {},
   "source": [
    " "
   ]
  },
  {
   "cell_type": "markdown",
   "id": "62617079-0685-4d91-8515-7e12e35dc459",
   "metadata": {},
   "source": [
    "## Calculate Average Spont Brand Uplift for Current Brand and Compare to Average"
   ]
  },
  {
   "cell_type": "code",
   "execution_count": null,
   "id": "ed93e439-d685-45c0-aa99-200f10e5d787",
   "metadata": {},
   "outputs": [],
   "source": [
    "# Calculate the Spont Brand uplift for the current brand\n",
    "current_spont_brand_uplift = (Spont_Brand_tvc_ica - Spont_Brand_tvc) / Spont_Brand_tvc * 100  # Percentage uplift\n",
    "\n",
    "# Retrieve the average Spont Brand uplift for the current brand size\n",
    "average_spont_uplift_for_size = average_spont_brand_uplifts[current_brand_size]\n",
    "\n",
    "# Compare the current brand's Spont Brand uplift to the average\n",
    "print(f\"\\n--- Spont Brand (BR Unaided) Comparison ---\")\n",
    "print(f\"Current Brand Spont Brand Uplift: {current_spont_brand_uplift:.2f}%\")\n",
    "print(f\"Average Spont Brand Uplift for {current_brand_size} Brands: {average_spont_uplift_for_size:.2f}%\")\n",
    "\n",
    "if current_spont_brand_uplift > average_spont_uplift_for_size:\n",
    "    print(f\"The current ad for {Brand_name} shows a **significant improvement** in Spont Brand uplift compared to the average for {current_brand_size} brands.\")\n",
    "else:\n",
    "    print(f\"The current ad for {Brand_name} does **not show a significant improvement** in Spont Brand uplift compared to the average for {current_brand_size} brands.\")\n"
   ]
  },
  {
   "cell_type": "markdown",
   "id": "3293978e-c550-43c8-a1d5-ba263eca737e",
   "metadata": {},
   "source": [
    "# Type of TVC vs Type of ICA calculations"
   ]
  },
  {
   "cell_type": "code",
   "execution_count": 56,
   "id": "20dbdb04-d6a3-439f-8ba9-41654c46ad98",
   "metadata": {},
   "outputs": [],
   "source": [
    "# Filter out rows where 'Type of TVC' or 'Type of ICA' are null\n",
    "filtered_type_data = filtered_data.dropna(subset=['Type of TVC (F/E/M)', 'Type of ICA (F/E/M)'])\n",
    "\n",
    "# # Display the first few rows to verify\n",
    "# print(\"Filtered Data (Non-null Type Columns):\")\n",
    "# print(filtered_type_data.head())"
   ]
  },
  {
   "cell_type": "code",
   "execution_count": null,
   "id": "23d5ca8f-9562-44da-8582-2881ca366021",
   "metadata": {},
   "outputs": [],
   "source": [
    "# Further filter where 'Type of ICA' is 'F'\n",
    "filtered_ica_f_data = filtered_type_data[filtered_type_data['Type of ICA (F/E/M)'] == 'F']\n",
    "\n",
    "# Display the first few rows to verify\n",
    "print(filtered_ica_f_data['Type of ICA (F/E/M)'].value_counts())\n"
   ]
  },
  {
   "cell_type": "code",
   "execution_count": null,
   "id": "b37eae75-bcc7-40b7-b5b3-48b9b3a9ce0e",
   "metadata": {},
   "outputs": [],
   "source": [
    "# Step 1: Filter data to include only the specified combinations and target audience starting with 'F'\n",
    "filtered_combinations_data = filtered_type_data[\n",
    "    (((filtered_type_data['Type of TVC (F/E/M)'] == 'E') & (filtered_type_data['Type of ICA (F/E/M)'] == 'F')) |\n",
    "     ((filtered_type_data['Type of TVC (F/E/M)'] == 'F') & (filtered_type_data['Type of ICA (F/E/M)'] == 'F')) |\n",
    "     ((filtered_type_data['Type of TVC (F/E/M)'] == 'M') & (filtered_type_data['Type of ICA (F/E/M)'] == 'F'))) &\n",
    "    (filtered_type_data['TARGET AUDIENCE'].str[0] == 'F')  # Additional condition for target audience\n",
    "]\n",
    "\n",
    "# Step 2: Define the combinations and calculate metrics\n",
    "combinations = {\n",
    "    \"E(TVC) + F(ICA)\": {'TVC': 'E', 'ICA': 'F'},\n",
    "    \"F(TVC) + F(ICA)\": {'TVC': 'F', 'ICA': 'F'},\n",
    "    \"M(TVC) + F(ICA)\": {'TVC': 'M', 'ICA': 'F'}\n",
    "}\n",
    "\n",
    "# Initialize a dictionary to store results\n",
    "combination_metrics = {}\n",
    "\n",
    "# Loop through each combination\n",
    "for combo_name, combo_values in combinations.items():\n",
    "    # Filter the data for the current combination\n",
    "    combo_data = filtered_combinations_data[\n",
    "        (filtered_combinations_data['Type of TVC (F/E/M)'] == combo_values['TVC']) &\n",
    "        (filtered_combinations_data['Type of ICA (F/E/M)'] == combo_values['ICA'])\n",
    "    ]\n",
    "    \n",
    "    # Calculate metrics using the new percentage column\n",
    "    avg_spont_brand_uplift = combo_data['Spont Brand Uplift (%)'].mean()  # Average percentage uplift\n",
    "    record_count = combo_data.shape[0]  # Number of records\n",
    "    \n",
    "    # Store the results\n",
    "    combination_metrics[combo_name] = {\n",
    "        \"Average Spont Brand Uplift (%)\": avg_spont_brand_uplift,\n",
    "        \"Record Count\": record_count\n",
    "    }\n",
    "\n",
    "# Step 3: Print the results\n",
    "print(\"Metrics for Each Combination (Target Audience: Female):\")\n",
    "for combo, metrics in combination_metrics.items():\n",
    "    print(f\"\\nCombination: {combo}\")\n",
    "    print(f\"Average Spont Brand Uplift (%): {metrics['Average Spont Brand Uplift (%)']:.2f}\")\n",
    "    print(f\"Record Count: {metrics['Record Count']}\")\n"
   ]
  },
  {
   "cell_type": "code",
   "execution_count": null,
   "id": "2ba0fc0c-8030-4e37-9312-2538614b13ec",
   "metadata": {},
   "outputs": [],
   "source": [
    "# Retrieve the average uplift for the current creative type\n",
    "average_uplift_for_current_type = combination_metrics[Creative_type][\"Average Spont Brand Uplift (%)\"]\n",
    "\n",
    "# Compare the current ad's uplift to the average\n",
    "print(f\"\\n--- Comparison for Creative Type: {Creative_type} ---\")\n",
    "print(f\"Current Ad Spont Brand Uplift: {current_spont_brand_uplift:.2f}%\")\n",
    "print(f\"Average Spont Brand Uplift for {Creative_type}: {average_uplift_for_current_type:.2f}%\")\n",
    "\n",
    "if current_spont_brand_uplift > average_uplift_for_current_type:\n",
    "    print(f\"The current ad shows a **significant improvement** compared to the average for the same creative type.\")\n",
    "else:\n",
    "    print(f\"The current ad does **not show a significant improvement** compared to the average for the same creative type.\")\n"
   ]
  },
  {
   "cell_type": "code",
   "execution_count": null,
   "id": "315e8c27-77a7-4d09-b243-35a6e9ea1e46",
   "metadata": {},
   "outputs": [],
   "source": []
  }
 ],
 "metadata": {
  "kernelspec": {
   "display_name": "Python 3 (ipykernel)",
   "language": "python",
   "name": "python3"
  },
  "language_info": {
   "codemirror_mode": {
    "name": "ipython",
    "version": 3
   },
   "file_extension": ".py",
   "mimetype": "text/x-python",
   "name": "python",
   "nbconvert_exporter": "python",
   "pygments_lexer": "ipython3",
   "version": "3.13.1"
  }
 },
 "nbformat": 4,
 "nbformat_minor": 5
}
