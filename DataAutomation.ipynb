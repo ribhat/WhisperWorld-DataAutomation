{
 "cells": [
  {
   "cell_type": "markdown",
   "id": "29a5010d-512a-4bdd-acfa-e95d7fa13a58",
   "metadata": {},
   "source": [
    "## Input Variables"
   ]
  },
  {
   "cell_type": "code",
   "execution_count": 39,
   "id": "581f943e-0fca-40b2-996e-70ca6014e701",
   "metadata": {},
   "outputs": [],
   "source": [
    "# Input Variables\n",
    "Brand_name = \"Ponds\"\n",
    "TOM_tvc = 60\n",
    "TOM_TVC_ICA = 72\n",
    "Spont_Brand_tvc = 75  # Same as BR Unaided - TVC\n",
    "Spont_Brand_tvc_ica = 80  # Same as BR Unaided - TVC+ICA\n",
    "Aided_Brand_tvc = 94\n",
    "Aided_Brand_tvc_ica = 92 \n",
    "Creative_type = 'F(TVC) + F(ICA)'\n"
   ]
  },
  {
   "cell_type": "markdown",
   "id": "e508dc4c-89df-4b90-9714-d357f29d1643",
   "metadata": {},
   "source": [
    "## Load and Clean Data"
   ]
  },
  {
   "cell_type": "code",
   "execution_count": 40,
   "id": "3081278d-33ac-44de-ac88-7c10cd8a6471",
   "metadata": {},
   "outputs": [
    {
     "name": "stdout",
     "output_type": "stream",
     "text": [
      "Data from 'India' Sheet Loaded Successfully!\n",
      "Columns in Dataset: Index(['Year', 'SECTOR', 'CATEGORY', 'ADVERTISER', 'ADVERTISER GROUP', 'BRAND',\n",
      "       'TARGET AUDIENCE', 'MARKET', 'Product', 'Activity Period',\n",
      "       'RESEARCH METHODOLOGY', 'CAMPAIGN FORMAT', 'SOURCE', 'TOTAL ICA SPOTS',\n",
      "       'Channel', 'PROGRAM', 'TVC ARTWORK LINK', 'Type of TVC (F/E/M)',\n",
      "       'APPROVED MOCKUP/ ICA CREATIVE LINK', 'Type of ICA (F/E/M)',\n",
      "       'CAMPAIGN TYPE/ OBJECTIVE', 'TOM-ICA', 'TOM-Cont',\n",
      "       'TOM Uplift (CONT. vs ICA)', 'TOM - TVC', 'TOM - TVC+ICA',\n",
      "       'TOM Uplift (TVC vs TVC + ICA)', 'BR Unaided ICA', 'BR Unaided Cont',\n",
      "       'BR Unaided Uplift (CONT. vs ICA)', 'BR Unaided - TVC',\n",
      "       'BR Unaied - TVC+ICA', 'BR Unaided Uplift (TVC vs TVC + ICA)',\n",
      "       'AD RECALL ICA', 'AD RECALL CONTROL', 'AD RECAL Uplift (ICA-CONT.)',\n",
      "       'AD RECAL TVC', 'AD RECALL TVC+ICA',\n",
      "       ' AD RECAL Uplift (TVC vs TVC +ICA)', 'MR-ICA', 'MR-Cont',\n",
      "       'MR Uplift (CONT. vs ICA)', 'MR - TVC', 'MR - TVC+ICA',\n",
      "       'MR Uplift (TVC vs TVC + ICA)', 'PI-ICA', 'PI-Cont',\n",
      "       'PI Uplift (CONT. vs ICA)', 'PI - TVC', 'PI - TVC+ICA',\n",
      "       'PI Uplift (TVC vs TVC+ICA)', 'AL-ICA', 'AL-Cont', 'AL - TVC',\n",
      "       'AL - TVC+ICA', 'AL Uplift (TVC vs TVC+ICA)', 'FAV. ICA', 'FAV. CONT.',\n",
      "       'FAV Uplift (CONT. vs ICA)', 'FAV. TVC', 'FAV. TVC+ICA',\n",
      "       'FAV Uplift (TVC vs TVC+ICA)', 'BR Total Awrns - ICA',\n",
      "       'BR Total Awrns - CONT.', 'BR Total Axrns Uplift (CONT. vs ICA)',\n",
      "       'BR Total Awrns - TVC', 'BR Total Awrns - TVC+ICA',\n",
      "       'BR Total Axrns Uplift (TVC vs TVC+ICA)', 'VIEWABILITY (%) - ICA',\n",
      "       'TIMESPENT (Secs) - ICA', 'FIRST FIXATION', 'VIEWABILITY (%) - ASTON',\n",
      "       'TIMESPENT (Secs) - ASTON', 'TOTAL GRPs', 'BREAK TVR', 'ICA TVR',\n",
      "       '%UPLIFT', 'REACH @ 1+ ', 'OTS', 'TVC GRPS', 'TVC SPOTS', 'SPOT TVR',\n",
      "       'Oualify for Meta Analysis'],\n",
      "      dtype='object')\n",
      "First Few Rows:\n",
      "     Year                                            SECTOR  \\\n",
      "0  2021.0                                  FOOD & BEVERAGES   \n",
      "1  2021.0                                  FOOD & BEVERAGES   \n",
      "2  2021.0  BUILDING, INDUSTRIAL & LAND MATERIALS/EQUIPMENTS   \n",
      "3  2021.0                                  FOOD & BEVERAGES   \n",
      "4  2021.0                              PERSONAL ACCESSORIES   \n",
      "\n",
      "                     CATEGORY                   ADVERTISER  \\\n",
      "0                  CHOCOLATES        HERSHEY INDIA PVT LTD   \n",
      "1                         TEA             A V THOMAS GROUP   \n",
      "2  BUILDING MATERIALS/SYSTEMS          PIDILITE INDUSTRIES   \n",
      "3      SOFT DRINK NON AERATED          COCA COLA INDIA LTD   \n",
      "4    RETAIL OUTLETS-JEWELLERS  ALUKKAS ENTERPRISES PVT LTD   \n",
      "\n",
      "        ADVERTISER GROUP                            BRAND   TARGET AUDIENCE  \\\n",
      "0  HERSHEY INDIA PVT LTD       HERSHEYS KISSES CHOCOLATES      AA 15-40 A U   \n",
      "1       A V THOMAS GROUP                 AVT GOLD CUP TEA  AA 25-50 ABC U+R   \n",
      "2    PIDILITE INDUSTRIES  ROFF TILE & STONE FIXING EXPERT        M 31+ AB U   \n",
      "3    COCA COLA INDIA LTD                            MAAZA     AA 15-30 AB U   \n",
      "4     JOS ALUKKAS & SONS            JOS ALUKKAS JEWELLERY    AA 21+ ABC U+R   \n",
      "\n",
      "       MARKET Product Activity Period  ... TOTAL GRPs BREAK TVR ICA TVR  \\\n",
      "0   Karnataka     NaN             NaN  ...        NaN      3.90    4.30   \n",
      "1  Tamil Nadu     NaN             NaN  ...        NaN       NaN     NaN   \n",
      "2   Karnataka     NaN             NaN  ...        NaN      6.09    6.52   \n",
      "3  Tamil Nadu     NaN             NaN  ...        NaN       NaN     NaN   \n",
      "4  Tamil Nadu     NaN             NaN  ...        NaN     10.50   13.30   \n",
      "\n",
      "   %UPLIFT REACH @ 1+  OTS TVC GRPS TVC SPOTS SPOT TVR  \\\n",
      "0     0.11         NaN NaN      NaN       NaN      NaN   \n",
      "1      NaN         NaN NaN      NaN       NaN      NaN   \n",
      "2     0.07         NaN NaN      NaN       NaN      NaN   \n",
      "3      NaN         NaN NaN      NaN       NaN      NaN   \n",
      "4     0.27         NaN NaN      NaN       NaN      NaN   \n",
      "\n",
      "  Oualify for Meta Analysis  \n",
      "0                       NaN  \n",
      "1                        No  \n",
      "2                        No  \n",
      "3                        No  \n",
      "4                        No  \n",
      "\n",
      "[5 rows x 83 columns]\n"
     ]
    }
   ],
   "source": [
    "import pandas as pd\n",
    "\n",
    "# Replace 'Global Campaign Tracker.xlsx' with the path to your file\n",
    "file_path = \"Global Campaign Tracker.xlsx\"\n",
    "\n",
    "# Load the specific sheet named 'India' using the 'openpyxl' engine\n",
    "try:\n",
    "    campaign_data_india = pd.read_excel(file_path, sheet_name='INDIA', engine='openpyxl')\n",
    "    print(\"Data from 'India' Sheet Loaded Successfully!\")\n",
    "    print(\"Columns in Dataset:\", campaign_data_india.columns)\n",
    "    print(\"First Few Rows:\")\n",
    "    print(campaign_data_india.head())\n",
    "except Exception as e:\n",
    "    print(f\"Error loading data from 'India' sheet: {e}\")\n"
   ]
  },
  {
   "cell_type": "code",
   "execution_count": 41,
   "id": "f36e7be5-559e-4ede-8361-7fa090334c9c",
   "metadata": {},
   "outputs": [
    {
     "name": "stdout",
     "output_type": "stream",
     "text": [
      "     Year                                            SECTOR  \\\n",
      "0  2021.0                                  FOOD & BEVERAGES   \n",
      "1  2021.0                                  FOOD & BEVERAGES   \n",
      "2  2021.0  BUILDING, INDUSTRIAL & LAND MATERIALS/EQUIPMENTS   \n",
      "3  2021.0                                  FOOD & BEVERAGES   \n",
      "4  2021.0                              PERSONAL ACCESSORIES   \n",
      "\n",
      "                     CATEGORY                   ADVERTISER  \\\n",
      "0                  CHOCOLATES        HERSHEY INDIA PVT LTD   \n",
      "1                         TEA             A V THOMAS GROUP   \n",
      "2  BUILDING MATERIALS/SYSTEMS          PIDILITE INDUSTRIES   \n",
      "3      SOFT DRINK NON AERATED          COCA COLA INDIA LTD   \n",
      "4    RETAIL OUTLETS-JEWELLERS  ALUKKAS ENTERPRISES PVT LTD   \n",
      "\n",
      "                             BRAND   TARGET AUDIENCE      MARKET  \\\n",
      "0       HERSHEYS KISSES CHOCOLATES      AA 15-40 A U   Karnataka   \n",
      "1                 AVT GOLD CUP TEA  AA 25-50 ABC U+R  Tamil Nadu   \n",
      "2  ROFF TILE & STONE FIXING EXPERT        M 31+ AB U   Karnataka   \n",
      "3                            MAAZA     AA 15-30 AB U  Tamil Nadu   \n",
      "4            JOS ALUKKAS JEWELLERY    AA 21+ ABC U+R  Tamil Nadu   \n",
      "\n",
      "  CAMPAIGN FORMAT  TOM - TVC  TOM - TVC+ICA  TOM Uplift (TVC vs TVC + ICA)  \\\n",
      "0  TVC vs TVC+ICA        3.0            5.0                            2.0   \n",
      "1             NaN        NaN            NaN                            NaN   \n",
      "2  TVC vs TVC+ICA        2.0           15.0                           13.0   \n",
      "3             NaN        NaN            NaN                            NaN   \n",
      "4  TVC vs TVC+ICA        3.0           19.0                           16.0   \n",
      "\n",
      "   BR Unaided - TVC  BR Unaied - TVC+ICA  \\\n",
      "0              68.0                 84.0   \n",
      "1               NaN                  NaN   \n",
      "2              80.0                 87.0   \n",
      "3               NaN                  NaN   \n",
      "4              76.0                 81.0   \n",
      "\n",
      "   BR Unaided Uplift (TVC vs TVC + ICA) Type of TVC (F/E/M)  \\\n",
      "0                                  16.0                 NaN   \n",
      "1                                   NaN                 NaN   \n",
      "2                                   7.0                 NaN   \n",
      "3                                   NaN                 NaN   \n",
      "4                                   5.0                 NaN   \n",
      "\n",
      "  Type of ICA (F/E/M)  \n",
      "0                 NaN  \n",
      "1                 NaN  \n",
      "2                 NaN  \n",
      "3                 NaN  \n",
      "4                 NaN  \n"
     ]
    }
   ],
   "source": [
    "# List of columns to keep; Remove unused columns for managability\n",
    "columns_to_keep = [\n",
    "    'Year', 'SECTOR', 'CATEGORY', 'ADVERTISER', 'BRAND', 'TARGET AUDIENCE',\n",
    "    'MARKET', 'CAMPAIGN FORMAT', 'TOM - TVC', 'TOM - TVC+ICA', \n",
    "    'TOM Uplift (TVC vs TVC + ICA)', 'BR Unaided - TVC', \n",
    "    'BR Unaied - TVC+ICA', 'BR Unaided Uplift (TVC vs TVC + ICA)', \n",
    "    'Type of TVC (F/E/M)', 'Type of ICA (F/E/M)'\n",
    "]\n",
    "\n",
    "# Filter the data to include only the specified columns\n",
    "campaign_data_india = campaign_data_india[columns_to_keep]\n",
    "\n",
    "# Display the first few rows of the filtered data to verify\n",
    "print(campaign_data_india.head())"
   ]
  },
  {
   "cell_type": "code",
   "execution_count": 42,
   "id": "0e138cca-7975-496b-acfa-a8009104db7a",
   "metadata": {},
   "outputs": [
    {
     "name": "stdout",
     "output_type": "stream",
     "text": [
      "     Year                                            SECTOR  \\\n",
      "0  2021.0                                  FOOD & BEVERAGES   \n",
      "1  2021.0                                  FOOD & BEVERAGES   \n",
      "2  2021.0  BUILDING, INDUSTRIAL & LAND MATERIALS/EQUIPMENTS   \n",
      "3  2021.0                                  FOOD & BEVERAGES   \n",
      "4  2021.0                              PERSONAL ACCESSORIES   \n",
      "\n",
      "                     CATEGORY                   ADVERTISER  \\\n",
      "0                  CHOCOLATES        HERSHEY INDIA PVT LTD   \n",
      "1                         TEA             A V THOMAS GROUP   \n",
      "2  BUILDING MATERIALS/SYSTEMS          PIDILITE INDUSTRIES   \n",
      "3      SOFT DRINK NON AERATED          COCA COLA INDIA LTD   \n",
      "4    RETAIL OUTLETS-JEWELLERS  ALUKKAS ENTERPRISES PVT LTD   \n",
      "\n",
      "                             BRAND   TARGET AUDIENCE      MARKET  \\\n",
      "0       HERSHEYS KISSES CHOCOLATES      AA 15-40 A U   Karnataka   \n",
      "1                 AVT GOLD CUP TEA  AA 25-50 ABC U+R  Tamil Nadu   \n",
      "2  ROFF TILE & STONE FIXING EXPERT        M 31+ AB U   Karnataka   \n",
      "3                            MAAZA     AA 15-30 AB U  Tamil Nadu   \n",
      "4            JOS ALUKKAS JEWELLERY    AA 21+ ABC U+R  Tamil Nadu   \n",
      "\n",
      "  CAMPAIGN FORMAT  TOM - TVC  TOM - TVC+ICA  TOM Uplift (TVC vs TVC + ICA)  \\\n",
      "0  TVC vs TVC+ICA        3.0            5.0                            2.0   \n",
      "1             NaN        NaN            NaN                            NaN   \n",
      "2  TVC vs TVC+ICA        2.0           15.0                           13.0   \n",
      "3             NaN        NaN            NaN                            NaN   \n",
      "4  TVC vs TVC+ICA        3.0           19.0                           16.0   \n",
      "\n",
      "   BR Unaided - TVC  BR Unaied - TVC+ICA  \\\n",
      "0              68.0                 84.0   \n",
      "1               NaN                  NaN   \n",
      "2              80.0                 87.0   \n",
      "3               NaN                  NaN   \n",
      "4              76.0                 81.0   \n",
      "\n",
      "   BR Unaided Uplift (TVC vs TVC + ICA) Type of TVC (F/E/M)  \\\n",
      "0                                  16.0                 NaN   \n",
      "1                                   NaN                 NaN   \n",
      "2                                   7.0                 NaN   \n",
      "3                                   NaN                 NaN   \n",
      "4                                   5.0                 NaN   \n",
      "\n",
      "  Type of ICA (F/E/M)  Spont Brand Uplift (%)  \n",
      "0                 NaN               23.529412  \n",
      "1                 NaN                     NaN  \n",
      "2                 NaN                8.750000  \n",
      "3                 NaN                     NaN  \n",
      "4                 NaN                6.578947  \n"
     ]
    }
   ],
   "source": [
    "# Calculate the Spont Brand Uplift percentage for each record and add it as a new column\n",
    "campaign_data_india['Spont Brand Uplift (%)'] = (\n",
    "    (campaign_data_india['BR Unaied - TVC+ICA'] - campaign_data_india['BR Unaided - TVC']) /\n",
    "    campaign_data_india['BR Unaided - TVC']\n",
    ") * 100\n",
    "\n",
    "print(campaign_data_india.head())"
   ]
  },
  {
   "cell_type": "code",
   "execution_count": 43,
   "id": "6f27e190-c9a9-4342-b4ef-9e317227dc76",
   "metadata": {},
   "outputs": [
    {
     "name": "stdout",
     "output_type": "stream",
     "text": [
      "Total number of rows: 1052\n",
      "\n",
      "Total null values in each row: \n",
      "Year                                    625\n",
      "SECTOR                                  666\n",
      "CATEGORY                                666\n",
      "ADVERTISER                              666\n",
      "BRAND                                   666\n",
      "TARGET AUDIENCE                         667\n",
      "MARKET                                  667\n",
      "CAMPAIGN FORMAT                         671\n",
      "TOM - TVC                               767\n",
      "TOM - TVC+ICA                           767\n",
      "TOM Uplift (TVC vs TVC + ICA)           767\n",
      "BR Unaided - TVC                        767\n",
      "BR Unaied - TVC+ICA                     767\n",
      "BR Unaided Uplift (TVC vs TVC + ICA)    767\n",
      "Type of TVC (F/E/M)                     848\n",
      "Type of ICA (F/E/M)                     782\n",
      "Spont Brand Uplift (%)                  767\n",
      "dtype: int64\n"
     ]
    }
   ],
   "source": [
    "# Get the total number of rows and columns\n",
    "total_rows, total_columns = campaign_data_india.shape\n",
    "\n",
    "# Print the total number of rows\n",
    "print(f\"Total number of rows: {total_rows}\")\n",
    "\n",
    "# Check for missing values\n",
    "print(f\"\\nTotal null values in each row: \\n{campaign_data_india.isnull().sum()}\")\n",
    "\n",
    "# If we want to drop rows with missing values or fill them with a default value\n",
    "# campaign_data_india = campaign_data_india.dropna()  # or\n",
    "# campaign_data_india = campaign_data_india.fillna(0)\n"
   ]
  },
  {
   "cell_type": "code",
   "execution_count": 44,
   "id": "03be7ba1-e049-433f-b6b3-8c9edfc861d4",
   "metadata": {},
   "outputs": [
    {
     "name": "stdout",
     "output_type": "stream",
     "text": [
      "Year                                    float64\n",
      "SECTOR                                   object\n",
      "CATEGORY                                 object\n",
      "ADVERTISER                               object\n",
      "BRAND                                    object\n",
      "TARGET AUDIENCE                          object\n",
      "MARKET                                   object\n",
      "CAMPAIGN FORMAT                          object\n",
      "TOM - TVC                               float64\n",
      "TOM - TVC+ICA                           float64\n",
      "TOM Uplift (TVC vs TVC + ICA)           float64\n",
      "BR Unaided - TVC                        float64\n",
      "BR Unaied - TVC+ICA                     float64\n",
      "BR Unaided Uplift (TVC vs TVC + ICA)    float64\n",
      "Type of TVC (F/E/M)                      object\n",
      "Type of ICA (F/E/M)                      object\n",
      "Spont Brand Uplift (%)                  float64\n",
      "dtype: object\n"
     ]
    }
   ],
   "source": [
    "print(campaign_data_india.dtypes)  # Check for correct data types\n"
   ]
  },
  {
   "cell_type": "code",
   "execution_count": 45,
   "id": "0ba26457-6c6b-414f-9554-6f14447beeb5",
   "metadata": {},
   "outputs": [
    {
     "name": "stdout",
     "output_type": "stream",
     "text": [
      "              Year   TOM - TVC  TOM - TVC+ICA  TOM Uplift (TVC vs TVC + ICA)  \\\n",
      "count   427.000000  285.000000     285.000000                     285.000000   \n",
      "mean   2022.576112   44.277193      60.771930                      16.624561   \n",
      "std       1.169122   23.091909      22.892598                       9.400110   \n",
      "min    2021.000000    1.000000       3.000000                      -1.000000   \n",
      "25%    2021.000000   27.000000      48.000000                      10.000000   \n",
      "50%    2023.000000   45.000000      65.000000                      16.000000   \n",
      "75%    2024.000000   61.000000      77.000000                      22.000000   \n",
      "max    2024.000000   89.000000      97.000000                      54.000000   \n",
      "\n",
      "       BR Unaided - TVC  BR Unaied - TVC+ICA  \\\n",
      "count        285.000000           285.000000   \n",
      "mean          62.715789            76.722807   \n",
      "std           22.205029            19.895245   \n",
      "min            1.000000            10.000000   \n",
      "25%           50.000000            70.000000   \n",
      "50%           66.000000            82.000000   \n",
      "75%           80.000000            91.000000   \n",
      "max           97.000000           100.000000   \n",
      "\n",
      "       BR Unaided Uplift (TVC vs TVC + ICA)  Spont Brand Uplift (%)  \n",
      "count                            285.000000              285.000000  \n",
      "mean                              14.010526               37.486298  \n",
      "std                                8.905009               87.225274  \n",
      "min                               -1.000000               -1.063830  \n",
      "25%                                8.000000               11.688312  \n",
      "50%                               12.000000               19.480519  \n",
      "75%                               19.000000               36.065574  \n",
      "max                               59.000000             1300.000000  \n"
     ]
    }
   ],
   "source": [
    "print(campaign_data_india.describe())\n"
   ]
  },
  {
   "cell_type": "code",
   "execution_count": 46,
   "id": "39f26147-9de5-4814-bda0-dc4ec5ca12a2",
   "metadata": {},
   "outputs": [
    {
     "name": "stdout",
     "output_type": "stream",
     "text": [
      "SECTOR\n",
      "FOOD & BEVERAGES                                    130\n",
      "BUILDING, INDUSTRIAL & LAND MATERIALS/EQUIPMENTS     39\n",
      "SERVICES                                             30\n",
      "PERSONAL CARE/PERSONAL HYGIENE                       23\n",
      "BANKING/FINANCE/INVESTMENT                           20\n",
      "DURABLES                                             20\n",
      "TELECOM PRODUCTS                                     17\n",
      "LAUNDRY                                              15\n",
      "HOUSEHOLD PRODUCTS                                   14\n",
      "COMPUTERS                                            14\n",
      "RETAIL                                               12\n",
      "PERSONAL HEALTHCARE                                  12\n",
      "AUTO                                                 12\n",
      "HAIR CARE                                            10\n",
      "PERSONAL ACCESSORIES                                  6\n",
      "COSMETICS                                             4\n",
      "FUEL/PETROLEUM PRODUCTS                               2\n",
      "BABYCARE                                              2\n",
      "HDFC BANK PAYZAPP                                     1\n",
      "TEXTILES/CLOTHING                                     1\n",
      "ENTERTAINMENT                                         1\n",
      "MISCELLANEOUS                                         1\n",
      "Name: count, dtype: int64\n",
      "\n",
      "TARGET AUDIENCE\n",
      "F 22-40 AB U          15\n",
      "AA 22-50 ABCDE U+R    12\n",
      "F 22+ ABCDE U+R       11\n",
      "AA 15+ ABC U+R        11\n",
      "F 22-40 ABCDE U+R     10\n",
      "                      ..\n",
      "F 18-25 ABCDE U+R      1\n",
      "F 25+ AB U+R           1\n",
      "F 22-60 AB U+R         1\n",
      "AA 25-50 ABCDE U+R     1\n",
      "F 15-40 BC U           1\n",
      "Name: count, Length: 141, dtype: int64\n"
     ]
    }
   ],
   "source": [
    "print(campaign_data_india['SECTOR'].value_counts())\n",
    "print()\n",
    "print(campaign_data_india['TARGET AUDIENCE'].value_counts())\n"
   ]
  },
  {
   "cell_type": "code",
   "execution_count": 47,
   "id": "33258d53-6675-48fd-89e7-fa17db692aaa",
   "metadata": {},
   "outputs": [
    {
     "name": "stdout",
     "output_type": "stream",
     "text": [
      "              Year   TOM - TVC  TOM - TVC+ICA  TOM Uplift (TVC vs TVC + ICA)  \\\n",
      "count   261.000000  261.000000     261.000000                     261.000000   \n",
      "mean   2022.509579   47.574713      64.425287                      16.992337   \n",
      "std       1.168869   21.222792      19.811981                       9.014515   \n",
      "min    2021.000000    1.000000       5.000000                      -1.000000   \n",
      "25%    2021.000000   33.000000      53.000000                      10.000000   \n",
      "50%    2023.000000   48.000000      68.000000                      17.000000   \n",
      "75%    2024.000000   62.000000      79.000000                      23.000000   \n",
      "max    2024.000000   89.000000      97.000000                      50.000000   \n",
      "\n",
      "       BR Unaided - TVC  BR Unaied - TVC+ICA  \\\n",
      "count        261.000000           261.000000   \n",
      "mean          67.283525            81.302682   \n",
      "std           16.891397            12.493858   \n",
      "min           26.000000            48.000000   \n",
      "25%           55.000000            73.000000   \n",
      "50%           69.000000            84.000000   \n",
      "75%           81.000000            92.000000   \n",
      "max           97.000000           100.000000   \n",
      "\n",
      "       BR Unaided Uplift (TVC vs TVC + ICA)  Spont Brand Uplift (%)  \n",
      "count                            261.000000              261.000000  \n",
      "mean                              14.022989               25.491630  \n",
      "std                                8.477087               22.949621  \n",
      "min                               -1.000000               -1.063830  \n",
      "25%                                8.000000               11.267606  \n",
      "50%                               13.000000               18.309859  \n",
      "75%                               19.000000               32.758621  \n",
      "max                               39.000000              119.230769  \n"
     ]
    }
   ],
   "source": [
    "#remove rows that do not have TVC-ICA scores\n",
    "filtered_data = campaign_data_india.dropna(subset=['BR Unaided - TVC', 'BR Unaied - TVC+ICA'])\n",
    "\n",
    "#Filter to include only records where 'BR Unaided - TVC' is greater than 25\n",
    "filtered_data = filtered_data[filtered_data['BR Unaided - TVC'] > 25]\n",
    "\n",
    "print(filtered_data.describe())"
   ]
  },
  {
   "cell_type": "code",
   "execution_count": 48,
   "id": "eff07b3f-70c6-4bd5-a01c-01d5d7075fd3",
   "metadata": {},
   "outputs": [],
   "source": [
    "# # Ensure that values in target audience column are treated as strings\n",
    "# filtered_data['TARGET AUDIENCE'] = filtered_data['TARGET AUDIENCE'].astype(str)\n",
    "# # Filter rows where Target Audience is Female\n",
    "filtered_data = filtered_data[filtered_data['TARGET AUDIENCE'].str[0] == 'F']\n",
    "\n",
    "# # Display the first few rows of the filtered data for verification\n",
    "# print(filtered_data.describe())\n"
   ]
  },
  {
   "cell_type": "code",
   "execution_count": 49,
   "id": "5205cd98-4d12-4288-a527-ed88423e6256",
   "metadata": {},
   "outputs": [
    {
     "name": "stdout",
     "output_type": "stream",
     "text": [
      "Percentiles for BR Unaided - TVC:\n",
      "0.40    64.00\n",
      "0.69    78.45\n",
      "Name: BR Unaided - TVC, dtype: float64\n"
     ]
    }
   ],
   "source": [
    "# using BR Unaided - TVC to define the thresholds for small, medium, and large brands.\n",
    "br_unaided_percentiles = filtered_data['BR Unaided - TVC'].quantile([0.40, 0.69])\n",
    "print(\"Percentiles for BR Unaided - TVC:\")\n",
    "print(br_unaided_percentiles)\n"
   ]
  },
  {
   "cell_type": "code",
   "execution_count": 50,
   "id": "d1abcb18-510b-41f1-95a6-927d4aba4ca9",
   "metadata": {},
   "outputs": [
    {
     "name": "stdout",
     "output_type": "stream",
     "text": [
      "    BR Unaided - TVC Brand Size\n",
      "8               71.0     Medium\n",
      "9               62.0      Small\n",
      "13              69.0     Medium\n",
      "25              78.0     Medium\n",
      "27              90.0      Large\n"
     ]
    }
   ],
   "source": [
    "def categorize_brand_size(br_unaided_score):\n",
    "    if br_unaided_score <= br_unaided_percentiles[0.40]:\n",
    "        return 'Small'\n",
    "    elif br_unaided_score <= br_unaided_percentiles[0.69]:\n",
    "        return 'Medium'\n",
    "    else:\n",
    "        return 'Large'\n",
    "\n",
    "filtered_data['Brand Size'] = filtered_data['BR Unaided - TVC'].apply(categorize_brand_size)\n",
    "print(filtered_data[['BR Unaided - TVC', 'Brand Size']].head())"
   ]
  },
  {
   "cell_type": "code",
   "execution_count": 51,
   "id": "dc39bb9d-eab2-43e9-9e27-5be99f568e2f",
   "metadata": {},
   "outputs": [
    {
     "name": "stdout",
     "output_type": "stream",
     "text": [
      "TOM Uplift Stats by Brand Size:\n",
      "                 mean  size\n",
      "Brand Size                 \n",
      "Large       11.424242    33\n",
      "Medium      13.862069    29\n",
      "Small       18.931818    44\n"
     ]
    }
   ],
   "source": [
    "# Calculate average TOM uplift and counts for each brand size\n",
    "tom_uplift_stats = filtered_data.groupby('Brand Size')['TOM Uplift (TVC vs TVC + ICA)'].agg(['mean', 'size'])\n",
    "print(\"TOM Uplift Stats by Brand Size:\")\n",
    "print(tom_uplift_stats)"
   ]
  },
  {
   "cell_type": "code",
   "execution_count": 52,
   "id": "2615e2c3-b6b5-4a65-83c8-83411fd0f947",
   "metadata": {},
   "outputs": [],
   "source": [
    "## Visualize the comparison of average uplifts across brand sizes.\n",
    "# import matplotlib.pyplot as plt\n",
    "\n",
    "# average_uplifts.plot(kind='bar')\n",
    "# plt.title('Average Uplift by Brand Size')\n",
    "# plt.ylabel('Average Uplift (%)')\n",
    "# plt.xlabel('Brand Size')\n",
    "# plt.show()"
   ]
  },
  {
   "cell_type": "code",
   "execution_count": 53,
   "id": "7806b56a-42df-47d1-b810-a11273b17f57",
   "metadata": {},
   "outputs": [
    {
     "name": "stdout",
     "output_type": "stream",
     "text": [
      "Brand Name: Ponds\n",
      "Brand Size: Medium\n",
      "Current Brand TOM Uplift: 20.00%\n",
      "Average TOM Uplift for Medium Brands: 13.86%\n",
      "The current ad for Ponds shows a **significant improvement** compared to the average uplift for Medium brands.\n"
     ]
    }
   ],
   "source": [
    "# Input Variables\n",
    "Brand_name = \"Ponds\"\n",
    "TOM_tvc = 60\n",
    "TOM_TVC_ICA = 72\n",
    "Spont_Brand_tvc = 75  # Same as BR Unaided - TVC\n",
    "Spont_Brand_tvc_ica = 80  # Same as BR Unaided - TVC+ICA\n",
    "\n",
    "# Calculate the TOM uplift for the current brand\n",
    "current_tom_uplift = (TOM_TVC_ICA - TOM_tvc) / TOM_tvc * 100  # Percentage uplift\n",
    "\n",
    "# Determine the current brand size based on Spont_Brand_tvc\n",
    "def categorize_brand_size(br_unaided_score):\n",
    "    if br_unaided_score <= br_unaided_percentiles[0.4]:\n",
    "        return 'Small'\n",
    "    elif br_unaided_score <= br_unaided_percentiles[0.69]:\n",
    "        return 'Medium'\n",
    "    else:\n",
    "        return 'Large'\n",
    "\n",
    "current_brand_size = categorize_brand_size(Spont_Brand_tvc)\n",
    "\n",
    "# Retrieve the average uplift for the current brand size\n",
    "average_tom_uplift_for_size = tom_uplift_stats['mean'][current_brand_size]\n",
    "\n",
    "# Compare the current brand uplift to the average\n",
    "print(f\"Brand Name: {Brand_name}\")\n",
    "print(f\"Brand Size: {current_brand_size}\")\n",
    "print(f\"Current Brand TOM Uplift: {current_tom_uplift:.2f}%\")\n",
    "print(f\"Average TOM Uplift for {current_brand_size} Brands: {average_tom_uplift_for_size:.2f}%\")\n",
    "\n",
    "if current_tom_uplift > average_tom_uplift_for_size:\n",
    "    print(f\"The current ad for {Brand_name} shows a **significant improvement** compared to the average uplift for {current_brand_size} brands.\")\n",
    "else:\n",
    "    print(f\"The current ad for {Brand_name} does **not show a significant improvement** compared to the average uplift for {current_brand_size} brands.\")\n"
   ]
  },
  {
   "cell_type": "code",
   "execution_count": 60,
   "id": "586aba70-9f80-4055-92b8-ccb80570568e",
   "metadata": {},
   "outputs": [
    {
     "name": "stdout",
     "output_type": "stream",
     "text": [
      "Average Spont Brand Uplift by Brand Size:\n",
      "Brand Size\n",
      "Large      8.165658\n",
      "Medium    15.120892\n",
      "Small     38.017805\n",
      "Name: Spont Brand Uplift (%), dtype: float64\n",
      "Brand Size\n",
      "Large     33\n",
      "Medium    29\n",
      "Small     44\n",
      "Name: Spont Brand Uplift (%), dtype: int64\n"
     ]
    }
   ],
   "source": [
    "# Calculate the average Spont Brand uplift percentage for each brand size\n",
    "average_spont_brand_uplifts = filtered_data.groupby('Brand Size')['Spont Brand Uplift (%)'].mean()\n",
    "count_spont_brand_uplifts = filtered_data.groupby('Brand Size')['Spont Brand Uplift (%)'].size()\n",
    "\n",
    "# Print the averages to verify\n",
    "print(\"Average Spont Brand Uplift by Brand Size:\")\n",
    "print(average_spont_brand_uplifts)\n",
    "print(count_spont_brand_uplifts)\n"
   ]
  },
  {
   "cell_type": "markdown",
   "id": "aa60f920-f564-4b7d-b4c6-3ed6351e009a",
   "metadata": {},
   "source": [
    " "
   ]
  },
  {
   "cell_type": "markdown",
   "id": "62617079-0685-4d91-8515-7e12e35dc459",
   "metadata": {},
   "source": [
    "## Calculate Average Spont Brand Uplift for Current Brand and Compare to Average"
   ]
  },
  {
   "cell_type": "code",
   "execution_count": 55,
   "id": "ed93e439-d685-45c0-aa99-200f10e5d787",
   "metadata": {},
   "outputs": [
    {
     "name": "stdout",
     "output_type": "stream",
     "text": [
      "\n",
      "--- Spont Brand (BR Unaided) Comparison ---\n",
      "Current Brand Spont Brand Uplift: 6.67%\n",
      "Average Spont Brand Uplift for Medium Brands: 15.12%\n",
      "The current ad for Ponds does **not show a significant improvement** in Spont Brand uplift compared to the average for Medium brands.\n"
     ]
    }
   ],
   "source": [
    "# Calculate the Spont Brand uplift for the current brand\n",
    "current_spont_brand_uplift = (Spont_Brand_tvc_ica - Spont_Brand_tvc) / Spont_Brand_tvc * 100  # Percentage uplift\n",
    "\n",
    "# Retrieve the average Spont Brand uplift for the current brand size\n",
    "average_spont_uplift_for_size = average_spont_brand_uplifts[current_brand_size]\n",
    "\n",
    "# Compare the current brand's Spont Brand uplift to the average\n",
    "print(f\"\\n--- Spont Brand (BR Unaided) Comparison ---\")\n",
    "print(f\"Current Brand Spont Brand Uplift: {current_spont_brand_uplift:.2f}%\")\n",
    "print(f\"Average Spont Brand Uplift for {current_brand_size} Brands: {average_spont_uplift_for_size:.2f}%\")\n",
    "\n",
    "if current_spont_brand_uplift > average_spont_uplift_for_size:\n",
    "    print(f\"The current ad for {Brand_name} shows a **significant improvement** in Spont Brand uplift compared to the average for {current_brand_size} brands.\")\n",
    "else:\n",
    "    print(f\"The current ad for {Brand_name} does **not show a significant improvement** in Spont Brand uplift compared to the average for {current_brand_size} brands.\")\n"
   ]
  },
  {
   "cell_type": "markdown",
   "id": "3293978e-c550-43c8-a1d5-ba263eca737e",
   "metadata": {},
   "source": [
    "# Type of TVC vs Type of ICA calculations"
   ]
  },
  {
   "cell_type": "code",
   "execution_count": 56,
   "id": "20dbdb04-d6a3-439f-8ba9-41654c46ad98",
   "metadata": {},
   "outputs": [],
   "source": [
    "# Filter out rows where 'Type of TVC' or 'Type of ICA' are null\n",
    "filtered_type_data = filtered_data.dropna(subset=['Type of TVC (F/E/M)', 'Type of ICA (F/E/M)'])\n",
    "\n",
    "# # Display the first few rows to verify\n",
    "# print(\"Filtered Data (Non-null Type Columns):\")\n",
    "# print(filtered_type_data.head())"
   ]
  },
  {
   "cell_type": "code",
   "execution_count": 57,
   "id": "23d5ca8f-9562-44da-8582-2881ca366021",
   "metadata": {},
   "outputs": [
    {
     "name": "stdout",
     "output_type": "stream",
     "text": [
      "Type of ICA (F/E/M)\n",
      "F    83\n",
      "Name: count, dtype: int64\n"
     ]
    }
   ],
   "source": [
    "# Further filter where 'Type of ICA' is 'F'\n",
    "filtered_ica_f_data = filtered_type_data[filtered_type_data['Type of ICA (F/E/M)'] == 'F']\n",
    "\n",
    "# Display the first few rows to verify\n",
    "print(filtered_ica_f_data['Type of ICA (F/E/M)'].value_counts())\n"
   ]
  },
  {
   "cell_type": "code",
   "execution_count": 58,
   "id": "b37eae75-bcc7-40b7-b5b3-48b9b3a9ce0e",
   "metadata": {},
   "outputs": [
    {
     "name": "stdout",
     "output_type": "stream",
     "text": [
      "Metrics for Each Combination (Target Audience: Female):\n",
      "\n",
      "Combination: E(TVC) + F(ICA)\n",
      "Average Spont Brand Uplift (%): 29.28\n",
      "Record Count: 5\n",
      "\n",
      "Combination: F(TVC) + F(ICA)\n",
      "Average Spont Brand Uplift (%): 19.73\n",
      "Record Count: 44\n",
      "\n",
      "Combination: M(TVC) + F(ICA)\n",
      "Average Spont Brand Uplift (%): 21.91\n",
      "Record Count: 33\n"
     ]
    }
   ],
   "source": [
    "# Step 1: Filter data to include only the specified combinations and target audience starting with 'F'\n",
    "filtered_combinations_data = filtered_type_data[\n",
    "    (((filtered_type_data['Type of TVC (F/E/M)'] == 'E') & (filtered_type_data['Type of ICA (F/E/M)'] == 'F')) |\n",
    "     ((filtered_type_data['Type of TVC (F/E/M)'] == 'F') & (filtered_type_data['Type of ICA (F/E/M)'] == 'F')) |\n",
    "     ((filtered_type_data['Type of TVC (F/E/M)'] == 'M') & (filtered_type_data['Type of ICA (F/E/M)'] == 'F'))) &\n",
    "    (filtered_type_data['TARGET AUDIENCE'].str[0] == 'F')  # Additional condition for target audience\n",
    "]\n",
    "\n",
    "# Step 2: Define the combinations and calculate metrics\n",
    "combinations = {\n",
    "    \"E(TVC) + F(ICA)\": {'TVC': 'E', 'ICA': 'F'},\n",
    "    \"F(TVC) + F(ICA)\": {'TVC': 'F', 'ICA': 'F'},\n",
    "    \"M(TVC) + F(ICA)\": {'TVC': 'M', 'ICA': 'F'}\n",
    "}\n",
    "\n",
    "# Initialize a dictionary to store results\n",
    "combination_metrics = {}\n",
    "\n",
    "# Loop through each combination\n",
    "for combo_name, combo_values in combinations.items():\n",
    "    # Filter the data for the current combination\n",
    "    combo_data = filtered_combinations_data[\n",
    "        (filtered_combinations_data['Type of TVC (F/E/M)'] == combo_values['TVC']) &\n",
    "        (filtered_combinations_data['Type of ICA (F/E/M)'] == combo_values['ICA'])\n",
    "    ]\n",
    "    \n",
    "    # Calculate metrics using the new percentage column\n",
    "    avg_spont_brand_uplift = combo_data['Spont Brand Uplift (%)'].mean()  # Average percentage uplift\n",
    "    record_count = combo_data.shape[0]  # Number of records\n",
    "    \n",
    "    # Store the results\n",
    "    combination_metrics[combo_name] = {\n",
    "        \"Average Spont Brand Uplift (%)\": avg_spont_brand_uplift,\n",
    "        \"Record Count\": record_count\n",
    "    }\n",
    "\n",
    "# Step 3: Print the results\n",
    "print(\"Metrics for Each Combination (Target Audience: Female):\")\n",
    "for combo, metrics in combination_metrics.items():\n",
    "    print(f\"\\nCombination: {combo}\")\n",
    "    print(f\"Average Spont Brand Uplift (%): {metrics['Average Spont Brand Uplift (%)']:.2f}\")\n",
    "    print(f\"Record Count: {metrics['Record Count']}\")\n"
   ]
  },
  {
   "cell_type": "code",
   "execution_count": 59,
   "id": "2ba0fc0c-8030-4e37-9312-2538614b13ec",
   "metadata": {},
   "outputs": [
    {
     "name": "stdout",
     "output_type": "stream",
     "text": [
      "\n",
      "--- Comparison for Creative Type: F(TVC) + F(ICA) ---\n",
      "Current Ad Spont Brand Uplift: 6.67%\n",
      "Average Spont Brand Uplift for F(TVC) + F(ICA): 19.73%\n",
      "The current ad does **not show a significant improvement** compared to the average for the same creative type.\n"
     ]
    }
   ],
   "source": [
    "# Retrieve the average uplift for the current creative type\n",
    "average_uplift_for_current_type = combination_metrics[Creative_type][\"Average Spont Brand Uplift (%)\"]\n",
    "\n",
    "# Compare the current ad's uplift to the average\n",
    "print(f\"\\n--- Comparison for Creative Type: {Creative_type} ---\")\n",
    "print(f\"Current Ad Spont Brand Uplift: {current_spont_brand_uplift:.2f}%\")\n",
    "print(f\"Average Spont Brand Uplift for {Creative_type}: {average_uplift_for_current_type:.2f}%\")\n",
    "\n",
    "if current_spont_brand_uplift > average_uplift_for_current_type:\n",
    "    print(f\"The current ad shows a **significant improvement** compared to the average for the same creative type.\")\n",
    "else:\n",
    "    print(f\"The current ad does **not show a significant improvement** compared to the average for the same creative type.\")\n"
   ]
  },
  {
   "cell_type": "code",
   "execution_count": null,
   "id": "315e8c27-77a7-4d09-b243-35a6e9ea1e46",
   "metadata": {},
   "outputs": [],
   "source": []
  }
 ],
 "metadata": {
  "kernelspec": {
   "display_name": "Python 3 (ipykernel)",
   "language": "python",
   "name": "python3"
  },
  "language_info": {
   "codemirror_mode": {
    "name": "ipython",
    "version": 3
   },
   "file_extension": ".py",
   "mimetype": "text/x-python",
   "name": "python",
   "nbconvert_exporter": "python",
   "pygments_lexer": "ipython3",
   "version": "3.13.0"
  }
 },
 "nbformat": 4,
 "nbformat_minor": 5
}
